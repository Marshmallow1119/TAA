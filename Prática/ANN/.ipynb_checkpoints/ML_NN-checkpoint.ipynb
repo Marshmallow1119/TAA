{
 "cells": [
  {
   "cell_type": "markdown",
   "metadata": {},
   "source": [
    "# Lab - Multi-class Classification (linear vs nonlinear approach) \n",
    "\n",
    "## PART 1: One-vs-all multi-class classification with Logistic Regression - linear approach\n",
    "Objectives: Implementation of one-vs-all Logistic Regression (linear approach) to recognize hand-written digits (from 0 to 9) from images. "
   ]
  },
  {
   "cell_type": "markdown",
   "metadata": {},
   "source": [
    "**Problem**: Automated handwritten digit recognition is widely used today - from recognizing zip codes (postal codes) on mail envelopes to recognizing amounts written on bank checks. In this lab, you will extend your previous implementation of Logistic Regression (binary classification - 0,1)  and apply it to multi-class (one-vs-all) classification."
   ]
  },
  {
   "cell_type": "code",
   "execution_count": 2,
   "metadata": {},
   "outputs": [],
   "source": [
    "#Import relevant libraries\n",
    "import numpy as np\n",
    "import pandas as pd\n",
    "import matplotlib.pyplot as plt\n",
    "#to load matlab mat files\n",
    "from scipy.io import loadmat"
   ]
  },
  {
   "cell_type": "markdown",
   "metadata": {},
   "source": [
    "### Load Data\n",
    "\n",
    "File *ex3data1.mat* contains 5000 training examples of handwritten digits. This is a subset of the MNIST handwritten digit dataset (http://yann.lecun.com/exdb/mnist/). The .mat format means that the data has been saved in a native Octave/MATLAB matrix format, instead of a text (ASCII) format like a csv-file. \n",
    "\n",
    "There are 5000 training examples, each example is a 20x20 pixel grayscale image of the digit. Each pixel is represented by a floating point number indicating the grayscale intensity at that location. The 20x20 grid of pixels is unrolled into a 400-dimensional vector. Each of these training examples becomes a single row in the array X. This gives a (5000, 400) shape X, where on every row are the pixels of one image.\n",
    "\n",
    "y is a (5000, 1) shape vector of the training set labels. \n",
    "Data was initially processed with MATLAB where there is no zero index, therefore the digit 0 is mapped to the value 10. Thus, a 0 digit is labeled as 10, while the digits 1 to 9 are labeled as 1 to 9 in their natural order."
   ]
  },
  {
   "cell_type": "code",
   "execution_count": 3,
   "metadata": {},
   "outputs": [
    {
     "name": "stdout",
     "output_type": "stream",
     "text": [
      "5000\n",
      "[[8]\n",
      " [8]\n",
      " [8]\n",
      " [8]\n",
      " [8]\n",
      " [8]\n",
      " [8]\n",
      " [8]\n",
      " [8]\n",
      " [8]]\n"
     ]
    }
   ],
   "source": [
    "# function loadmat load the data as a dictionary with keys X and y\n",
    "mat=loadmat(\"ex3data1.mat\")\n",
    "\n",
    "# mat is a dict with key \"X\" for x-values, and key \"y\" for y values\n",
    "X=mat[\"X\"]\n",
    "y=mat[\"y\"]\n",
    "\n",
    "#number of training examples\n",
    "m= X.shape[0]\n",
    "print(y[4000:4010])"
   ]
  },
  {
   "cell_type": "markdown",
   "metadata": {},
   "source": [
    "### Plot subset of data\n",
    "\n",
    "The code below randomly selects 100 rows from X, maps each row to a 20x20 pixel grayscale image and displays the images together, you should see an image like in Fig. 1.\n",
    "\n",
    "<img src=\"images/f1.png\" style=\"width:350px;height:250px;\">\n",
    "<caption><center> Fig. 1: Examples from MNIST handwritten digit dataset </center></caption>"
   ]
  },
  {
   "cell_type": "code",
   "execution_count": null,
   "metadata": {},
   "outputs": [],
   "source": [
    "fig, axis = plt.subplots(10,10,figsize=(8,8))\n",
    "for i in range(10):\n",
    "    for j in range(10):\n",
    "                                                        #reshape back to 20x20 pixel image\n",
    "        axis[i,j].imshow(X[np.random.randint(0,5001),:].reshape(20,20,order=\"F\"), cmap=\"hot\") \n"
   ]
  },
  {
   "cell_type": "markdown",
   "metadata": {},
   "source": [
    "### Computing the Cost Function\n",
    "\n",
    "Recall that the regularized cost function in logistic regression is:\n",
    "\n",
    "$J(\\theta) = \\frac{1}{m} \\sum_{i=1}^{m} [ -y^{(i)}log(h_{\\theta}(x^{(i)})) - (1 - y^{(i)})log(1 - (h_{\\theta}(x^{(i)}))] + \\frac{\\lambda}{2m} \\sum_{j=1}^n \\theta_j^2$\n",
    "\n",
    "The cost gradients are (remember that the gradient of $\\theta_0$ is not regularized): \n",
    "\n",
    "$ \\frac{\\partial J(\\theta)}{\\partial \\theta_j} = \\frac{1}{m} \\sum_{i=1}^{m} (h_{\\theta}(x^{(i)}) - y^{(i)})x_j^{(i)}$ for $j=0$\n",
    "\n",
    "$ \\frac{\\partial J(\\theta)}{\\partial \\theta_j} = \\frac{1}{m} \\sum_{i=1}^{m} (h_{\\theta}(x^{(i)}) - y^{(i)})x_j^{(i)} + \\frac{\\lambda}{m}\\theta_j$ for $j\\geq 1$"
   ]
  },
  {
   "cell_type": "code",
   "execution_count": 6,
   "metadata": {},
   "outputs": [],
   "source": [
    "# Add sigmoid FUNCTION from the previous lab\n",
    "def sigmoid(z):\n",
    "    \"\"\"\n",
    "    return the sigmoid of z\n",
    "    \"\"\"\n",
    "    \n",
    "    gz=1/(1+ np.exp(-z))\n",
    "    \n",
    "    return gz"
   ]
  },
  {
   "cell_type": "code",
   "execution_count": 8,
   "metadata": {},
   "outputs": [],
   "source": [
    "# Add costFunctionReg FUNCTION from the previous lab (the function that computes the regularized cost and the gradients)\n",
    "def costFunctionReg(X, y, theta, Lambda):\n",
    "    \"\"\"\n",
    "    Take in numpy array of  data X, labels y and theta, to return the regularized cost function and gradients\n",
    "    of the logistic regression classifier\n",
    "    \"\"\"\n",
    "    \n",
    "    #number of training examples \n",
    "    m=X.shape[0]\n",
    "    #vector of the model predictions for all training examples      \n",
    "    h = sigmoid(np.dot(X,theta))\n",
    "    \n",
    "    error = (-y * np.log(h)) - ((1-y)*np.log(1-h))\n",
    "    \n",
    "    #cost function without regularization term\n",
    "    cost = sum(error)/m\n",
    "    \n",
    "    #add regularization term to the cost function L2 norm\n",
    "    regCost= cost + Lambda/(2*m) * sum(theta[1:]**2)\n",
    "    \n",
    "    #gradient of theta_0\n",
    "    grad_0= (1/m) * np.dot(X.transpose(),(h - y))[0]\n",
    "    \n",
    "    #vector of gradients of theta_j from j=1:n (adding the regularization term of the gradient)\n",
    "    grad = (1/m) * np.dot(X.transpose(),(h - y))[1:] + (Lambda/m)* theta[1:]\n",
    "       \n",
    "    # all gradients in a column vector shape\n",
    "    grad_all=np.append(grad_0,grad)\n",
    "    grad_all = grad_all.reshape((len(grad_all), 1))\n",
    "    \n",
    "    return regCost[0], grad_all"
   ]
  },
  {
   "cell_type": "markdown",
   "metadata": {},
   "source": [
    "### Test for correct implementation of costFunctionReg"
   ]
  },
  {
   "cell_type": "code",
   "execution_count": 12,
   "metadata": {},
   "outputs": [
    {
     "name": "stdout",
     "output_type": "stream",
     "text": [
      "2.534819396109744\n",
      "[[ 0.14656137]\n",
      " [-0.54855841]\n",
      " [ 0.72472227]\n",
      " [ 1.39800296]]\n"
     ]
    }
   ],
   "source": [
    "#test function costFunctionReg with the generated data \n",
    "\n",
    "theta_t = np.array([-2,-1,1,2]).reshape(4,1)\n",
    "\n",
    "X_t =np.array([np.linspace(0.1,1.5,15)]).reshape(3,5).T\n",
    "X_t= np.append(np.ones((5,1)),X_t,axis=1)\n",
    "\n",
    "y_t = np.array([1,0,1,0,1]).reshape(5,1)\n",
    "\n",
    "#Compute the cost and the gradients?        \n",
    "Lambda=3\n",
    "regCost, grad_all = costFunctionReg(X_t,y_t,theta_t, Lambda)\n",
    "\n",
    "#ANSWER: Cost: 2.535\n",
    "print(regCost)\n",
    "#ANSWER:  Gradients: 0.146561; -0.548558; 0.724722;  1.398003\n",
    "print(grad_all)\n"
   ]
  },
  {
   "cell_type": "code",
   "execution_count": 13,
   "metadata": {},
   "outputs": [],
   "source": [
    "# Add gradientDescent FUNCTION from the previous lab (the function that returns the optimal theta vector and J_history)\n",
    "def gradientDescent(X,y,theta,alpha,num_iters,Lambda):\n",
    "    \"\"\"\n",
    "    Take in numpy array X, y and theta and update theta by taking num_iters gradient steps\n",
    "    with learning rate of alpha\n",
    "    \n",
    "    return theta and the list of the cost of theta during each iteration\n",
    "    \"\"\"\n",
    "    \n",
    "    J_history =[]\n",
    "    \n",
    "    for i in range(num_iters):\n",
    "        \n",
    "        #call CostFunctionReg \n",
    "        cost, grad = costFunctionReg(X, y, theta, Lambda)\n",
    "\n",
    "\n",
    "        #update theta\n",
    "        theta = theta - alpha*grad\n",
    "        \n",
    "        J_history.append(cost)\n",
    "    \n",
    "    return theta , J_history"
   ]
  },
  {
   "cell_type": "markdown",
   "metadata": {},
   "source": [
    "### One-vs-all Classification\n",
    "\n",
    "You will implement one-vs-all classification by training multiple Regularized Logistic Regression classifiers, one for each of the K classes in the MNIST dataset. \n",
    "\n",
    "In the handwritten digits dataset, K = 10, but your code should work for any value of K. You should complete the code in function *oneVsAll* to train one classier for each class. \n",
    "\n",
    "Your code should return all the classifier parameters in a Kx(n+1) matrix *all_theta*, where each row corresponds to the learned Logistic Regression parameters for one class. You can do this with a for-loop from 1 to K, training each classifier independently.\n",
    "\n",
    "Note that the y argument to this function is a vector of labels from 1 to 10, where we have mapped the digit “0\" to the label 10. When training the classifier for class i you will transform  vector y, with shape (m, 1), in a binary vector, where only for examples with label i, y gets value = 1, and for all other labels (not class i), y gets value = 0. \n",
    "\n",
    "Logical arrays are helpful for this task, e.g. y=np.where(y==i,1,0). \n"
   ]
  },
  {
   "cell_type": "code",
   "execution_count": 15,
   "metadata": {},
   "outputs": [],
   "source": [
    "def oneVsAll(X, y, initial_theta, alpha, num_iters, Lambda, K):\n",
    "    \"\"\"\n",
    "    Inputs:\n",
    "    numpy array of data X and labels y\n",
    "    initial_theta - inicialized vector of model parameters theta \n",
    "    alpha - learning rate\n",
    "    num_iters - number of iterations\n",
    "    Lambda - regularization parameter \n",
    "    K -number of classes\n",
    "    \n",
    "    ONEVSALL trains K Logistic Regression classifiers using gradient descent. \n",
    "    \n",
    "    Returns:   \n",
    "    all_theta - Kxn matrix where i-th row corresponds to the i-th classifier, n parameters\n",
    "    all_J - the evolution of cost function during each iteration (J_history) for all K classifiers\n",
    "    \n",
    "    \"\"\"\n",
    "    all_theta = []\n",
    "    all_J=[]\n",
    "    \n",
    "    #number of training examples\n",
    "    m=X.shape[0]\n",
    "    \n",
    "    #number of features\n",
    "    n=X.shape[1]\n",
    "    \n",
    "    # add an extra column of 1´s corresponding to xo=1 (aka intercept term)\n",
    "    X = np.append((np.ones((m,1)), X))\n",
    "    \n",
    "    for i in range(1,K+1):\n",
    "        theta , J_history = gradientDescent(X,np.where(y==i,1,0),initial_theta,alpha,num_iters,Lambda)\n",
    "        \n",
    "        # sdd the vector of optimized parameters theta of classifier i\n",
    "        all_theta.extend(theta)\n",
    "                \n",
    "        # add the cost function history of classifier i\n",
    "        all_J.extend(J_history)\n",
    "        \n",
    "    return np.array(all_theta).reshape(K,n+1), all_J"
   ]
  },
  {
   "cell_type": "code",
   "execution_count": 16,
   "metadata": {},
   "outputs": [
    {
     "ename": "TypeError",
     "evalue": "oneVsAll() missing 1 required positional argument: 'K'",
     "output_type": "error",
     "traceback": [
      "\u001b[0;31m---------------------------------------------------------------------------\u001b[0m",
      "\u001b[0;31mTypeError\u001b[0m                                 Traceback (most recent call last)",
      "Cell \u001b[0;32mIn[16], line 6\u001b[0m\n\u001b[1;32m      2\u001b[0m initial_theta \u001b[38;5;241m=\u001b[39m np\u001b[38;5;241m.\u001b[39mzeros((m,\u001b[38;5;241m1\u001b[39m))\n\u001b[1;32m      4\u001b[0m \u001b[38;5;66;03m# call function oneVsAll with learning rate =1; 300 iterations; regularization parameter =0.1\u001b[39;00m\n\u001b[0;32m----> 6\u001b[0m all_theta, all_J \u001b[38;5;241m=\u001b[39m oneVsAll(X,y, initial_theta,\u001b[38;5;241m1\u001b[39m,\u001b[38;5;241m300\u001b[39m,\u001b[38;5;241m0.1\u001b[39m)\n",
      "\u001b[0;31mTypeError\u001b[0m: oneVsAll() missing 1 required positional argument: 'K'"
     ]
    }
   ],
   "source": [
    "#Inicialize vector theta with zeros\n",
    "initial_theta = np.zeros((m,1))\n",
    "Lambda = 3\n",
    "# call function oneVsAll with learning rate =1; 300 iterations; regularization parameter =0.1\n",
    "\n",
    "all_theta, all_J = oneVsAll(X,y, initial_theta,1,300,Lambda, 0.1)"
   ]
  },
  {
   "cell_type": "markdown",
   "metadata": {},
   "source": [
    "### Plot the Cost functions for all (K =10) classifiers\n",
    "\n",
    "Get a similar figure \n",
    "\n",
    "<img src=\"images/CostJ.png\" style=\"width:350px;height:250px;\">\n",
    "<caption><center> Fig. 2: all_J  </center></caption>"
   ]
  },
  {
   "cell_type": "code",
   "execution_count": null,
   "metadata": {},
   "outputs": [],
   "source": [
    "?\n"
   ]
  },
  {
   "cell_type": "markdown",
   "metadata": {},
   "source": [
    "### One-vs-all Prediction\n",
    "\n",
    "After training the one-vs-all classier, you can now use it to predict the digit contained in a given image. \n",
    "\n",
    "For each input, you should compute the probability that it belongs to each class using the trained logistic regression classifiers.\n",
    "The  *predictOneVsAll* function will pick the class for which the corresponding logistic regression classifier outputs the highest probability and return the class label (1, 2,..., or K) as the assigned class for this example.\n",
    "Complete the code in *predictOneVsAll* use the trained (one-vs-all) classifiers to make predictions. You should see that the training set accuracy is about 91.5%. \n"
   ]
  },
  {
   "cell_type": "code",
   "execution_count": null,
   "metadata": {},
   "outputs": [],
   "source": [
    "def predictOneVsAll(all_theta, X):\n",
    "    \"\"\"\n",
    "    Using all_theta, compute the probability of image X(i) for each class and predict the label\n",
    "    \n",
    "    return a vector of prediction\n",
    "    \"\"\"\n",
    "    #number of training examples\n",
    "    m=?\n",
    "    \n",
    "    # add an extra column of 1´s corresponding to xo=1 (aka intercept term)\n",
    "    X = ?\n",
    "    \n",
    "    predictions = np.dot (X, all_theta.T) # predictions.shape =(5000,10)  X(5000x401) * all_theta(401x10) = 5000x10\n",
    "    #np.argmax returns indices of the max element of the array in a particular axis.\n",
    "    #+1 in order to label 0 as 10. \n",
    "    return np.argmax(predictions,axis=1)+1"
   ]
  },
  {
   "cell_type": "code",
   "execution_count": null,
   "metadata": {},
   "outputs": [],
   "source": [
    "# Call predictOneVsAll\n",
    "pred = ?\n",
    "\n",
    "#Reshape if pred.shape is  rank 1 array\n",
    "\n",
    "# Compute Training Set Accuracy: ANSWER: arround 91.46 %\n",
    "\n",
    "?"
   ]
  },
  {
   "cell_type": "markdown",
   "metadata": {},
   "source": [
    "##  PART 2: One-vs-all multi-class classification with pretrained Neural Network - nonlinear classification\n",
    "\n",
    "In Part 1, you implemented multi-class logistic regression to recognize handwritten digits. However, logistic regression cannot propose more complex hypotheses as it is only a linear classifier. \n",
    "\n",
    "In this part, you will implement a NN to recognize handwritten digits using the same training set as before. The NN is able to represent complex non-linear hypotheses (models). \n",
    "\n",
    "For this assignment, you will use parameters from a NN that have been already trained. Your goal is to use the learned NN parameters (weights) for prediction. \n",
    "\n",
    "### Load trained parameters theta (transfer learning)\n",
    "\n",
    "In file ex3weights.mat are stored the pretrained NN parameter Theta1 and Theta2. \n",
    "Use function loadmat to load the data as a dictionary with keys Theta1 and Theta2. \n",
    "See Part 1. "
   ]
  },
  {
   "cell_type": "code",
   "execution_count": null,
   "metadata": {},
   "outputs": [],
   "source": [
    "\n",
    "\n",
    "# Compute the shape of Theta1 and Theta2.\n",
    "\n",
    "\n",
    "# What is the number of trainabale parameters ? \n"
   ]
  },
  {
   "cell_type": "markdown",
   "metadata": {},
   "source": [
    "### Class prediction with trained NN with one hidden layer (feedforward propagation)\n",
    "\n",
    "Function *predict* returns the NN's prediction. Note that the implemented feedforward computations compute the NN output for all examples in a vectorized way. Complete the few lines of code."
   ]
  },
  {
   "cell_type": "code",
   "execution_count": null,
   "metadata": {},
   "outputs": [],
   "source": [
    "def predict(Theta1, Theta2, X):\n",
    "    \"\"\"\n",
    "    Predict the label of an input given a trained neural network\n",
    "    \"\"\"\n",
    "        #number of training examples\n",
    "    m=?\n",
    "        \n",
    "    # add an extra column of 1´s corresponding to xo=1\n",
    "    X = ?\n",
    "    \n",
    "    #Compute the output of the hidden layer (with sigmoid activation functions)\n",
    "    z1=np.dot(X, Theta1.T)  #Inputs to the hidden layer neurons\n",
    "    a1=sigmoid(z1)  #Outputs  of the hidden layer neurons\n",
    "    \n",
    "    #Add a column of ones\n",
    "    a1 = np.append(np.ones((m,1)),a1, axis=1)\n",
    "    \n",
    "    #Compute the output of the output layer (with sigmoid activation functions)\n",
    "    z2=np.dot(a1, Theta2.T) #Inputs to the output layer neurons\n",
    "    a2=sigmoid(z2)  #Outputs  of the output layer neurons\n",
    "    \n",
    "    return np.argmax(a2,axis=1)+1"
   ]
  },
  {
   "cell_type": "code",
   "execution_count": null,
   "metadata": {},
   "outputs": [],
   "source": [
    "# Call function predict\n",
    "pred2 = ?\n",
    "\n",
    "#Check pred2 shape. If rank 1 array, reshape it.  \n",
    "\n",
    "\n",
    "# Compute Training Set Accuracy: ANSWER: 97.5%. \n",
    "\n"
   ]
  },
  {
   "cell_type": "markdown",
   "metadata": {},
   "source": [
    "### PART 3: Neural Network training to predict the digit\n",
    "\n",
    "**Objectives**: Implement Backpropagation algorithm for NN training to the task of hand-written digit recognition.\n",
    "\n",
    "In this part the code is complete, you just need to understand it. \n",
    "\n",
    "**NN cost function:** \n",
    "$J(\\theta) = \\frac{1}{m} \\sum_{i=1}^m \\sum_{k=1}^k [-y_k^{(i)} log(h_\\theta(x^{(i)})_k) - ( 1 -y_k^{(i)} log (1-h_\\theta(x^{(i)})_k)] + \\frac{\\lambda}{2m}[\\sum_{j=1}^{25} \\sum_{k=1}^{400} (\\theta_{j,k}^{(1)})^2 + \\sum_{j=1}^{10} \\sum_{k=1}^{25} (\\theta_{j,k}^{(2)})^2]$\n",
    "\n",
    "*nnCostFunction* computes the NN cost (above) and the gradients with and without regularization."
   ]
  },
  {
   "cell_type": "code",
   "execution_count": null,
   "metadata": {},
   "outputs": [],
   "source": [
    "def nnCostFunction(nn_params,input_layer_size, hidden_layer_size, num_labels,X, y,Lambda):\n",
    "    \"\"\"\n",
    "    nn_params contains the parameters unrolled into a vector\n",
    "    \n",
    "    compute the cost and gradient of the neural network\n",
    "    \"\"\"\n",
    "    # Reshape nn_params back into the parameters Theta1 and Theta2\n",
    "    Theta1 = nn_params[:((input_layer_size+1) * hidden_layer_size)].reshape(hidden_layer_size,input_layer_size+1)\n",
    "    Theta2 = nn_params[((input_layer_size +1)* hidden_layer_size ):].reshape(num_labels,hidden_layer_size+1)\n",
    "    \n",
    "    #number of training examples\n",
    "    m =   \n",
    "    \n",
    "    J=0\n",
    "      # add an extra column of 1´s corresponding to xo=1\n",
    "    X = ?\n",
    "    \n",
    "    #Inicialize the output predictions with zeros \n",
    "    y10 = np.zeros((m,num_labels))\n",
    "    \n",
    "    a1 = sigmoid(X @ Theta1.T)\n",
    "    a1 = np.hstack((np.ones((m,1)), a1)) # hidden layer\n",
    "    a2 = sigmoid(a1 @ Theta2.T) # output layer\n",
    "    \n",
    "    for i in range(1,num_labels+1):\n",
    "        y10[:,i-1][:,np.newaxis] = np.where(y==i,1,0)\n",
    "    for j in range(num_labels):\n",
    "        J = J + sum(-y10[:,j] * np.log(a2[:,j]) - (1-y10[:,j])*np.log(1-a2[:,j]))\n",
    "    \n",
    "    cost = 1/m* J\n",
    "    reg_J = cost + Lambda/(2*m) * (np.sum(Theta1[:,1:]**2) + np.sum(Theta2[:,1:]**2))\n",
    "    \n",
    "    # Implement the backpropagation algorithm to compute the gradients\n",
    "    \n",
    "    grad1 = np.zeros((Theta1.shape))\n",
    "    grad2 = np.zeros((Theta2.shape))\n",
    "    \n",
    "    for i in range(m):\n",
    "        xi= X[i,:] # 1 X 401\n",
    "        a1i = a1[i,:] # 1 X 26\n",
    "        a2i =a2[i,:] # 1 X 10\n",
    "        d2 = a2i - y10[i,:]\n",
    "        d1 = Theta2.T @ d2.T * sigmoidGradient(np.hstack((1,xi @ Theta1.T)))\n",
    "        grad1= grad1 + d1[1:][:,np.newaxis] @ xi[:,np.newaxis].T\n",
    "        grad2 = grad2 + d2.T[:,np.newaxis] @ a1i[:,np.newaxis].T\n",
    "        \n",
    "    grad1 = 1/m * grad1\n",
    "    grad2 = 1/m*grad2\n",
    "    \n",
    "    grad1_reg = grad1 + (Lambda/m) * np.hstack((np.zeros((Theta1.shape[0],1)),Theta1[:,1:]))\n",
    "    grad2_reg = grad2 + (Lambda/m) * np.hstack((np.zeros((Theta2.shape[0],1)),Theta2[:,1:]))\n",
    "    \n",
    "    return cost, grad1, grad2, reg_J, grad1_reg, grad2_reg"
   ]
  },
  {
   "cell_type": "code",
   "execution_count": null,
   "metadata": {},
   "outputs": [],
   "source": [
    "#Computes the gradient of sigmoid function\n",
    "def sigmoidGradient(z):\n",
    "    \"\"\"\n",
    "    computes the gradient of the sigmoid function\n",
    "    \"\"\"\n",
    "    sigGrad= ?\n",
    "    \n",
    "    return sigGrad"
   ]
  },
  {
   "cell_type": "markdown",
   "metadata": {},
   "source": [
    "### Random initialization\n",
    "\n",
    "Select values for $\\theta^{(l)}$ uniformly in the range $[-\\epsilon_{init} , \\epsilon_{init}]$\n",
    "\n",
    "One effective strategy for choosing $\\epsilon_{init}$ is to base it on the number of units in the network\n",
    "\n",
    "$\\epsilon_{init} = \\frac{\\sqrt{6}}{\\sqrt{L_{in} + L_{out}}}$"
   ]
  },
  {
   "cell_type": "code",
   "execution_count": null,
   "metadata": {},
   "outputs": [],
   "source": [
    "def randInitializeWeights(L_in, L_out):\n",
    "    \"\"\"\n",
    "    randomly initializes the weights of a layer with L_in incoming connections and L_out outgoing connections.\n",
    "    \"\"\"\n",
    "    \n",
    "    epi = (6**1/2) / (L_in + L_out)**1/2\n",
    "    \n",
    "    W = np.random.rand(L_out,L_in +1) *(2*epi) -epi\n",
    "    \n",
    "    return W"
   ]
  },
  {
   "cell_type": "code",
   "execution_count": null,
   "metadata": {},
   "outputs": [],
   "source": [
    "input_layer_size  = 400\n",
    "hidden_layer_size = 25\n",
    "\n",
    "initial_Theta1 = randInitializeWeights(input_layer_size, hidden_layer_size)\n",
    "initial_Theta2 = randInitializeWeights(hidden_layer_size, num_labels)\n",
    "initial_nn_params = np.append(initial_Theta1.flatten(),initial_Theta2.flatten())\n",
    "\n"
   ]
  },
  {
   "cell_type": "markdown",
   "metadata": {},
   "source": [
    "### Gradient Descent for shallow NN (input-layer => ONE hidden layer => output layer) "
   ]
  },
  {
   "cell_type": "code",
   "execution_count": null,
   "metadata": {},
   "outputs": [],
   "source": [
    "def gradientDescentnn(X,y,initial_nn_params,alpha,num_iters,Lambda,input_layer_size, hidden_layer_size, num_labels):\n",
    "    \"\"\"\n",
    "    Take in numpy array X, y and theta and update theta by taking num_iters gradient steps\n",
    "    with learning rate of alpha\n",
    "    \n",
    "    return theta and the list of the cost of theta during each iteration\n",
    "    \"\"\"\n",
    "    Theta1 = initial_nn_params[:((input_layer_size+1) * hidden_layer_size)].reshape(hidden_layer_size,input_layer_size+1)\n",
    "    Theta2 = initial_nn_params[((input_layer_size +1)* hidden_layer_size ):].reshape(num_labels,hidden_layer_size+1)\n",
    "    \n",
    "    #number of training examples\n",
    "    m = \n",
    "    J_history =[]\n",
    "    \n",
    "    for i in range(num_iters):\n",
    "        nn_params = np.append(Theta1.flatten(),Theta2.flatten())\n",
    "        cost, grad1, grad2 = nnCostFunction(nn_params,input_layer_size, hidden_layer_size, num_labels,X, y,Lambda)[3:]\n",
    "        Theta1 = Theta1 - (alpha * grad1)\n",
    "        Theta2 = Theta2 - (alpha * grad2)\n",
    "        J_history.append(cost)\n",
    "    \n",
    "    nn_paramsFinal = np.append(Theta1.flatten(),Theta2.flatten())\n",
    "    return nn_paramsFinal , J_history"
   ]
  },
  {
   "cell_type": "code",
   "execution_count": null,
   "metadata": {},
   "outputs": [],
   "source": [
    "#It may take very long to finish the training. \n",
    "#For 1000 iterations the Training Set Accuracy: 95.28(lambda=0.1; alpha=1)\n",
    "#You may need more iterations (e.g. 1500) to get better accuracy\n",
    "\n",
    "# call function gradientDescentnn with learning rate =1; 1000 iterations; \n",
    "# regularization parameter =0.1\n",
    "\n",
    "nnTheta, nnJ_history = \n",
    "\n",
    "Theta1 = nnTheta[:((input_layer_size+1) * hidden_layer_size)].reshape(hidden_layer_size,input_layer_size+1)\n",
    "Theta2 = nnTheta[((input_layer_size +1)* hidden_layer_size ):].reshape(num_labels,hidden_layer_size+1)"
   ]
  },
  {
   "cell_type": "code",
   "execution_count": null,
   "metadata": {},
   "outputs": [],
   "source": [
    "#Call function predict\n",
    "\n",
    "pred3 = ?\n",
    "\n",
    "print(\"Training Set Accuracy:? \")"
   ]
  },
  {
   "cell_type": "code",
   "execution_count": null,
   "metadata": {},
   "outputs": [],
   "source": [
    "# Plot the cost function evolution during training.\n",
    "#In order to say learning has finished, the cost function has to converge to a flat rate\n",
    "\n",
    "?"
   ]
  }
 ],
 "metadata": {
  "kernelspec": {
   "display_name": "Python 3 (ipykernel)",
   "language": "python",
   "name": "python3"
  },
  "language_info": {
   "codemirror_mode": {
    "name": "ipython",
    "version": 3
   },
   "file_extension": ".py",
   "mimetype": "text/x-python",
   "name": "python",
   "nbconvert_exporter": "python",
   "pygments_lexer": "ipython3",
   "version": "3.12.7"
  }
 },
 "nbformat": 4,
 "nbformat_minor": 4
}
